```python
# Install necessary libraries
!pip install snac numpy scipy librosa soundfile

# Import necessary libraries
import torch
import numpy as np
import librosa
import soundfile as sf
from snac import SNAC
import matplotlib.pyplot as plt
from scipy import signal
import subprocess

# Run intronb.py to generate the waveform file
try:
    subprocess.run(['python', 'intronb.py'], check=True)
    print("Waveform generation successful.")
except subprocess.CalledProcessError as e:
    print(f"Error generating waveform: {e}")
    exit(1) #Exit if waveform generation fails


# Load SNAC model
try:
    model = SNAC.from_pretrained("hubertsiuzdak/snac_32khz").eval().cuda()
    print("SNAC model loaded successfully.")
except Exception as e:
    print(f"Error loading SNAC model: {e}")

# Load audio
try:
    audio, sr = librosa.load('complex_waveform.wav', sr=32000, mono=True)
    audio = torch.from_numpy(audio).unsqueeze(0).unsqueeze(0).float().cuda()
    print("Audio loaded successfully.")
except FileNotFoundError:
    print("Error: complex_waveform.wav not found.  Check the previous step.")
except Exception as e:
    print(f"Error loading audio: {e}")


# Encode and decode
try:
    with torch.no_grad():
        codes = model.encode(audio)
        audio_hat = model.decode(codes)
    print("Encoding and decoding successful.")
except Exception as e:
    print(f"Error during encoding/decoding: {e}")

# Convert to numpy and save
try:
    audio_hat_np = audio_hat.squeeze().cpu().numpy()
    sf.write('reconstructed_audio.wav', audio_hat_np, sr)
    print("Reconstructed audio saved successfully.")
except Exception as e:
    print(f"Error saving reconstructed audio: {e}")

# Normalize audio after loading to handle potential amplitude variations
audio_hat_np = audio_hat_np / np.max(np.abs(audio_hat_np))

# Display waveforms
plt.figure(figsize=(10, 6))
plt.subplot(2, 1, 1)
plt.plot(waveform)
plt.title('Original Waveform')
plt.subplot(2, 1, 2)
plt.plot(audio_hat_np)
plt.title('Reconstructed Waveform')
plt.tight_layout()
plt.show()


# Play audio in notebook (using IPython.display.Audio)
from IPython.display import Audio
try:
    display(Audio('complex_waveform.wav'))
    display(Audio('reconstructed_audio.wav'))
except Exception as e:
    print(f"Error playing audio: {e}")

```
